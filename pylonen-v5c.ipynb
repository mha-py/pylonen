{
 "cells": [
  {
   "cell_type": "markdown",
   "metadata": {},
   "source": [
    "Diese Version (mit c) soll dienen, um das Video zu rendern.<br><br>"
   ]
  },
  {
   "cell_type": "code",
   "execution_count": 1,
   "metadata": {
    "ExecuteTime": {
     "end_time": "2020-08-15T09:37:10.975855Z",
     "start_time": "2020-08-15T09:37:10.426195Z"
    }
   },
   "outputs": [],
   "source": [
    "import numpy as np\n",
    "import matplotlib.pyplot as plt\n",
    "%matplotlib inline\n",
    "from IPython.display import display, clear_output"
   ]
  },
  {
   "cell_type": "code",
   "execution_count": 2,
   "metadata": {
    "ExecuteTime": {
     "end_time": "2020-08-15T09:37:15.365461Z",
     "start_time": "2020-08-15T09:37:10.977855Z"
    }
   },
   "outputs": [],
   "source": [
    "%load_ext autoreload\n",
    "%autoreload 2\n",
    "\n",
    "from pylonen_utils_v5 import *\n",
    "from plot_utils import *\n",
    "\n",
    "_route = None"
   ]
  },
  {
   "cell_type": "code",
   "execution_count": 8,
   "metadata": {
    "ExecuteTime": {
     "end_time": "2020-08-15T10:22:46.147714Z",
     "start_time": "2020-08-15T10:22:46.071762Z"
    }
   },
   "outputs": [],
   "source": [
    "PLT_XY_EXCHANGED = True\n",
    "    \n",
    "def plt_plot(xs, ys, **args):\n",
    "    if not PLT_XY_EXCHANGED:\n",
    "        plt.plot(xs, ys, **args)\n",
    "    else:\n",
    "        plt.plot(ys, xs, **args)\n",
    "\n",
    "def plt_scatter(xs, ys, **args):\n",
    "    if not PLT_XY_EXCHANGED:\n",
    "        plt.scatter(xs, ys, **args)\n",
    "    else:\n",
    "        plt.scatter(ys, xs, **args)\n",
    "\n",
    "def show_network(Ws):\n",
    "    'Shows the network architecture'\n",
    "    for k in range(len(Ws)):\n",
    "        W = Ws[k]\n",
    "        ioff = W.shape[0]/2 - 0.5\n",
    "        joff = W.shape[1]/2 - 0.5\n",
    "        for i in range(W.shape[0]):\n",
    "            for j in range(W.shape[1]):\n",
    "                s = W[i,j] >= 0\n",
    "                plt.plot([i-ioff, j-joff], [-k, -k-1], lw=5*abs(W[i,j]), c=(s,0,1-s))\n",
    "    plt.xticks([])\n",
    "    plt.yticks([])\n",
    "        \n",
    "def show_network_act(Ws, bs, fs, input, actmax=1, scales=None):\n",
    "    # Version ohne \"3D\"\n",
    "    '''Shows the Network architecture and its activations.\n",
    "    actmax: clipping of all activations is [0, actmax]\n",
    "    scales: die darstellung eines layers auseinanderziehen. Indexversatz, da der input als activation angezeigt wird'''\n",
    "    \n",
    "    COLOR_ACT_OFF = np.array( (0., 0., 0.))\n",
    "    COLOR_ACT_ON  = np.array( (0., 1., 0.))\n",
    "    COLOR_ACT_ON  = np.array( (1.0, 0.925, 0.))\n",
    "    LW_FACTOR = 5\n",
    "    \n",
    "    def _plot_activation(act, k):\n",
    "        act = np.clip(act / actmax, 0., 1.)\n",
    "        for j in range(act.size):\n",
    "            c = COLOR_ACT_ON*act[j] + COLOR_ACT_OFF*(1-act[j])\n",
    "            sc = scales[k] if scales else 1\n",
    "            plt_scatter([sc * (j-act.size/2+0.5)], [k], c=['black'], linewidth=12, zorder=3)\n",
    "            plt_scatter([sc * (j-act.size/2+0.5)], [k], c=[c], linewidth=10, zorder=3)\n",
    "    \n",
    "    # Plot Inputs as activation\n",
    "    act = input\n",
    "    _plot_activation(act, 0)\n",
    "    \n",
    "    for k in range(len(Ws)):\n",
    "        W = Ws[k]\n",
    "        b = bs[k]\n",
    "        ioff = W.shape[0]/2 - 0.5\n",
    "        joff = W.shape[1]/2 - 0.5\n",
    "        \n",
    "        # Weights are lines\n",
    "        scale0 = scales[k] if scales else 1.\n",
    "        scale1 = scales[k+1] if scales else 1.\n",
    "        for i in range(W.shape[0]):\n",
    "            for j in range(W.shape[1]):\n",
    "                s = 1.*(W[i,j] >= 0)\n",
    "                plt_plot([scale0*(i-ioff), scale1*(j-joff)], [k, k+1], lw=LW_FACTOR*abs(W[i,j]), c=(s,0,1-s))\n",
    "        \n",
    "        # Activations are points\n",
    "        act = (act@W)+b\n",
    "        act = fs[k](act)\n",
    "        _plot_activation(act, k+1)\n",
    "            \n",
    "    plt.xticks([])\n",
    "    plt.yticks([])\n",
    "    plt.gca().invert_yaxis()\n",
    "    \n",
    "    "
   ]
  },
  {
   "cell_type": "code",
   "execution_count": 37,
   "metadata": {
    "ExecuteTime": {
     "end_time": "2020-08-15T10:47:38.359363Z",
     "start_time": "2020-08-15T10:47:38.290354Z"
    }
   },
   "outputs": [
    {
     "data": {
      "text/plain": [
       "array([[-3.44      ,  2.89942152],\n",
       "       [-3.44      ,  2.12017076],\n",
       "       [-3.96574398,  1.44048231],\n",
       "       [-4.56      ,  1.98241174],\n",
       "       [-4.56      ,  2.8603029 ]])"
      ]
     },
     "execution_count": 37,
     "metadata": {},
     "output_type": "execute_result"
    }
   ],
   "source": [
    "Ws  = records['chromosomes'][0].Ws\n",
    "bs  = records['chromosomes'][0].bs\n",
    "fs  = records['chromosomes'][0].fs\n",
    "obs = records['raymarkers'][1][0]\n",
    "#show_network_act(Ws, bs, fs, obs)\n",
    "obs"
   ]
  },
  {
   "cell_type": "code",
   "execution_count": 38,
   "metadata": {
    "ExecuteTime": {
     "end_time": "2020-08-15T10:48:06.443927Z",
     "start_time": "2020-08-15T10:48:06.362449Z"
    }
   },
   "outputs": [],
   "source": [
    "if _route is None:\n",
    "    _route = route_video()\n",
    "    \n",
    "DELT = 0.05\n",
    "file_k = 0\n",
    "\n",
    "def render_population(cars_pop, centered_on=None, obs_pop=None, ray_markers=None, progress=None, chroms=None, generation=None):\n",
    "    # Version, bei der Strecke und neuronales Netzwerk nebeneinander angezeigt werden.\n",
    "    '''cars_in_pop: array von arrays von car-Klassen, erster Index nummeriert Durchlauf, zweiter Index die Zeitschritte\n",
    "       centered_on: Index des Durchlaufs, auf den das Bild zentriert werden soll (sonst auf eins der noch fahrenden Autos)\n",
    "       obss: Array vom Input des Autos (vom Auto centered_on), das ins Netzwerk gefüttert werden sollen.\n",
    "       ray_markers: Array mit den Koordinaten der grauen Markierungen der Strahlen\n",
    "       chrom: chromosom, dessen Netzwerk angezeigt werden soll.'''\n",
    "    \n",
    "    # Zwei Plotmodi: Nebeneinander oder als Inset\n",
    "    ## Nebeineinander:\n",
    "    ##fig, (ax1, ax2) = plt.subplots(1, 2, figsize=(12, 8))\n",
    "    # Als Inset:\n",
    "    fig, ax1 = plt.subplots(figsize=(12, 8))\n",
    "    left, bottom, width, height = [0.55, 0.55, 0.4, 0.4]\n",
    "    left, bottom, width, height = [0.65, 0.65, 0.3, 0.3]\n",
    "    Offset_x = +0.5 # Verschiebung des Bildschirms zur Seite (Platz für das Inset)\n",
    "    ax2 = fig.add_axes([left, bottom, width, height])\n",
    "    \n",
    "    \n",
    "    # Zusätzliche Schritte nach der letzten Kollision\n",
    "    add_steps = int(1.0 / DELT)\n",
    "    max_step = max([ len(car) for car in cars_pop ])\n",
    "    \n",
    "    # progress auffüllen mit den letzten Werten\n",
    "    for prog in progress:\n",
    "        while len(prog) < max_step:\n",
    "            try:\n",
    "                prog.append(prog[-1])\n",
    "            except:\n",
    "                prog.append(0)\n",
    "    progress = np.asarray(progress)\n",
    "    \n",
    "    # c_on initialisieren\n",
    "    c_on = 0\n",
    "    \n",
    "    # die Steps ablaufen lassen\n",
    "    for step in range(max_step+add_steps):\n",
    "        step = min(step, max_step-1)\n",
    "        \n",
    "        clear_output(True)\n",
    "        ax1.clear()\n",
    "        ax2.clear()\n",
    "        \n",
    "        plt.sca(ax1)\n",
    "        plt.axis('off')\n",
    "        \n",
    "        ########\n",
    "        # (1) Strecke anzeigen\n",
    "        _route.plot()\n",
    "        \n",
    "        if centered_on is None:\n",
    "            # define centered_on by maximal progress, aber mit Hysterese\n",
    "            C_ON_HYST = 1\n",
    "            c_on_new = np.argmax(progress[:,step])\n",
    "            if progress[c_on_new,step] > progress[c_on,step] + C_ON_HYST:\n",
    "                c_on = c_on_new\n",
    "        else:\n",
    "            c_on = centered_on\n",
    "            \n",
    "                \n",
    "        # Bildausschnitt festlegen\n",
    "        cars = cars_pop[c_on]\n",
    "        mystep = min(step, len(cars)-1)\n",
    "        p = cars[mystep].p\n",
    "        plt.xlim([p[0]-1 + Offset_x,  p[0]+1 + Offset_x])\n",
    "        plt.ylim([p[1]-1,  p[1]+1])\n",
    "        \n",
    "        \n",
    "        # Alle Autos anzeigen\n",
    "        for k in range(len(cars_pop)): # car ist ein Array, car[step] ist eine Autoklasse\n",
    "            \n",
    "            cars = cars_pop[k]\n",
    "            mystep = min(step, len(cars)-1)\n",
    "            \n",
    "            # Farbe festlegen\n",
    "            color  = (1.,0.,0.) if k==c_on else (0.5,0.5,0.5)\n",
    "            zorder = 101 if k==c_on else 100\n",
    "            \n",
    "            # Auto anzeigen\n",
    "            p = patches.Polygon(cars[mystep].corners, fc=color, ec='black', zorder=zorder)\n",
    "            plt.gca().add_patch(p)\n",
    "                \n",
    "            # Graue Kreuze anzeigen für nur ein Auto\n",
    "            if k == c_on:\n",
    "                for m in ray_markers[k][mystep]: # rays\n",
    "                    plt.scatter(m[0], m[1], marker='x', c='grey', s=100)\n",
    "                    plt.plot([cars[mystep].p[0], m[0]], [cars[mystep].p[1], m[1]], c='lightgray', lw=1.5)\n",
    "        \n",
    "        ########\n",
    "        # (2) Netzwerk anzeigen\n",
    "        if chroms: # nur falls chromosomen übergeben wurden\n",
    "            plt.sca(ax2)\n",
    "            chrm = chroms[c_on]\n",
    "            mystep = min(step, len(obs_pop[c_on])-1)\n",
    "            obs = obs_pop[c_on][mystep]\n",
    "            print(obs); return\n",
    "            show_network_act(chrm.Ws, chrm.bs, chrm.fs, obs)\n",
    "            ax2.patch.set_alpha(0.5)\n",
    "            \n",
    "        # (3) Generation anzeigen\n",
    "        #ax1.text(0.5, 0.5, 'Generation '+str(generation))\n",
    "            \n",
    "        display(plt.gcf())\n",
    "\n",
    "        global file_k\n",
    "        #plt.savefig(f'F:/$Daten/Vidcaptures/pylonen/frame%05d.png' % file_k)\n",
    "        file_k += 1"
   ]
  },
  {
   "cell_type": "code",
   "execution_count": 23,
   "metadata": {
    "ExecuteTime": {
     "end_time": "2020-08-15T10:40:40.367920Z",
     "start_time": "2020-08-15T10:37:55.806800Z"
    },
    "scrolled": false
   },
   "outputs": [
    {
     "ename": "KeyboardInterrupt",
     "evalue": "",
     "output_type": "error",
     "traceback": [
      "\u001b[1;31m---------------------------------------------------------------------------\u001b[0m",
      "\u001b[1;31mKeyboardInterrupt\u001b[0m                         Traceback (most recent call last)",
      "\u001b[1;32m<ipython-input-23-b22ce5708124>\u001b[0m in \u001b[0;36m<module>\u001b[1;34m()\u001b[0m\n\u001b[0;32m      1\u001b[0m render_population(records['car'], None, records['obs'], records['raymarkers'],\n\u001b[1;32m----> 2\u001b[1;33m                   records['progress'], records['chromosomes'], 5)\n\u001b[0m",
      "\u001b[1;32m<ipython-input-22-8c9a9e6e0cba>\u001b[0m in \u001b[0;36mrender_population\u001b[1;34m(cars_pop, centered_on, obs_pop, ray_markers, progress, chroms, generation)\u001b[0m\n\u001b[0;32m    100\u001b[0m             \u001b[0mmystep\u001b[0m \u001b[1;33m=\u001b[0m \u001b[0mmin\u001b[0m\u001b[1;33m(\u001b[0m\u001b[0mstep\u001b[0m\u001b[1;33m,\u001b[0m \u001b[0mlen\u001b[0m\u001b[1;33m(\u001b[0m\u001b[0mobs_pop\u001b[0m\u001b[1;33m[\u001b[0m\u001b[0mc_on\u001b[0m\u001b[1;33m]\u001b[0m\u001b[1;33m)\u001b[0m\u001b[1;33m-\u001b[0m\u001b[1;36m1\u001b[0m\u001b[1;33m)\u001b[0m\u001b[1;33m\u001b[0m\u001b[0m\n\u001b[0;32m    101\u001b[0m             \u001b[0mobs\u001b[0m \u001b[1;33m=\u001b[0m \u001b[0mobs_pop\u001b[0m\u001b[1;33m[\u001b[0m\u001b[0mc_on\u001b[0m\u001b[1;33m]\u001b[0m\u001b[1;33m[\u001b[0m\u001b[0mmystep\u001b[0m\u001b[1;33m]\u001b[0m\u001b[1;33m\u001b[0m\u001b[0m\n\u001b[1;32m--> 102\u001b[1;33m             \u001b[0mshow_network_act\u001b[0m\u001b[1;33m(\u001b[0m\u001b[0mchrm\u001b[0m\u001b[1;33m.\u001b[0m\u001b[0mWs\u001b[0m\u001b[1;33m,\u001b[0m \u001b[0mchrm\u001b[0m\u001b[1;33m.\u001b[0m\u001b[0mbs\u001b[0m\u001b[1;33m,\u001b[0m \u001b[0mchrm\u001b[0m\u001b[1;33m.\u001b[0m\u001b[0mfs\u001b[0m\u001b[1;33m,\u001b[0m \u001b[0mobs\u001b[0m\u001b[1;33m)\u001b[0m\u001b[1;33m\u001b[0m\u001b[0m\n\u001b[0m\u001b[0;32m    103\u001b[0m             \u001b[0max2\u001b[0m\u001b[1;33m.\u001b[0m\u001b[0mpatch\u001b[0m\u001b[1;33m.\u001b[0m\u001b[0mset_alpha\u001b[0m\u001b[1;33m(\u001b[0m\u001b[1;36m0.5\u001b[0m\u001b[1;33m)\u001b[0m\u001b[1;33m\u001b[0m\u001b[0m\n\u001b[0;32m    104\u001b[0m \u001b[1;33m\u001b[0m\u001b[0m\n",
      "\u001b[1;32m<ipython-input-8-dfe264d1f7c3>\u001b[0m in \u001b[0;36mshow_network_act\u001b[1;34m(Ws, bs, fs, input, actmax, scales)\u001b[0m\n\u001b[0;32m     61\u001b[0m             \u001b[1;32mfor\u001b[0m \u001b[0mj\u001b[0m \u001b[1;32min\u001b[0m \u001b[0mrange\u001b[0m\u001b[1;33m(\u001b[0m\u001b[0mW\u001b[0m\u001b[1;33m.\u001b[0m\u001b[0mshape\u001b[0m\u001b[1;33m[\u001b[0m\u001b[1;36m1\u001b[0m\u001b[1;33m]\u001b[0m\u001b[1;33m)\u001b[0m\u001b[1;33m:\u001b[0m\u001b[1;33m\u001b[0m\u001b[0m\n\u001b[0;32m     62\u001b[0m                 \u001b[0ms\u001b[0m \u001b[1;33m=\u001b[0m \u001b[1;36m1.\u001b[0m\u001b[1;33m*\u001b[0m\u001b[1;33m(\u001b[0m\u001b[0mW\u001b[0m\u001b[1;33m[\u001b[0m\u001b[0mi\u001b[0m\u001b[1;33m,\u001b[0m\u001b[0mj\u001b[0m\u001b[1;33m]\u001b[0m \u001b[1;33m>=\u001b[0m \u001b[1;36m0\u001b[0m\u001b[1;33m)\u001b[0m\u001b[1;33m\u001b[0m\u001b[0m\n\u001b[1;32m---> 63\u001b[1;33m                 \u001b[0mplt_plot\u001b[0m\u001b[1;33m(\u001b[0m\u001b[1;33m[\u001b[0m\u001b[0mscale0\u001b[0m\u001b[1;33m*\u001b[0m\u001b[1;33m(\u001b[0m\u001b[0mi\u001b[0m\u001b[1;33m-\u001b[0m\u001b[0mioff\u001b[0m\u001b[1;33m)\u001b[0m\u001b[1;33m,\u001b[0m \u001b[0mscale1\u001b[0m\u001b[1;33m*\u001b[0m\u001b[1;33m(\u001b[0m\u001b[0mj\u001b[0m\u001b[1;33m-\u001b[0m\u001b[0mjoff\u001b[0m\u001b[1;33m)\u001b[0m\u001b[1;33m]\u001b[0m\u001b[1;33m,\u001b[0m \u001b[1;33m[\u001b[0m\u001b[0mk\u001b[0m\u001b[1;33m,\u001b[0m \u001b[0mk\u001b[0m\u001b[1;33m+\u001b[0m\u001b[1;36m1\u001b[0m\u001b[1;33m]\u001b[0m\u001b[1;33m,\u001b[0m \u001b[0mlw\u001b[0m\u001b[1;33m=\u001b[0m\u001b[0mLW_FACTOR\u001b[0m\u001b[1;33m*\u001b[0m\u001b[0mabs\u001b[0m\u001b[1;33m(\u001b[0m\u001b[0mW\u001b[0m\u001b[1;33m[\u001b[0m\u001b[0mi\u001b[0m\u001b[1;33m,\u001b[0m\u001b[0mj\u001b[0m\u001b[1;33m]\u001b[0m\u001b[1;33m)\u001b[0m\u001b[1;33m,\u001b[0m \u001b[0mc\u001b[0m\u001b[1;33m=\u001b[0m\u001b[1;33m(\u001b[0m\u001b[0ms\u001b[0m\u001b[1;33m,\u001b[0m\u001b[1;36m0\u001b[0m\u001b[1;33m,\u001b[0m\u001b[1;36m1\u001b[0m\u001b[1;33m-\u001b[0m\u001b[0ms\u001b[0m\u001b[1;33m)\u001b[0m\u001b[1;33m)\u001b[0m\u001b[1;33m\u001b[0m\u001b[0m\n\u001b[0m\u001b[0;32m     64\u001b[0m \u001b[1;33m\u001b[0m\u001b[0m\n\u001b[0;32m     65\u001b[0m         \u001b[1;31m# Activations are points\u001b[0m\u001b[1;33m\u001b[0m\u001b[1;33m\u001b[0m\u001b[0m\n",
      "\u001b[1;32m<ipython-input-8-dfe264d1f7c3>\u001b[0m in \u001b[0;36mplt_plot\u001b[1;34m(xs, ys, **args)\u001b[0m\n\u001b[0;32m      5\u001b[0m         \u001b[0mplt\u001b[0m\u001b[1;33m.\u001b[0m\u001b[0mplot\u001b[0m\u001b[1;33m(\u001b[0m\u001b[0mxs\u001b[0m\u001b[1;33m,\u001b[0m \u001b[0mys\u001b[0m\u001b[1;33m,\u001b[0m \u001b[1;33m**\u001b[0m\u001b[0margs\u001b[0m\u001b[1;33m)\u001b[0m\u001b[1;33m\u001b[0m\u001b[0m\n\u001b[0;32m      6\u001b[0m     \u001b[1;32melse\u001b[0m\u001b[1;33m:\u001b[0m\u001b[1;33m\u001b[0m\u001b[0m\n\u001b[1;32m----> 7\u001b[1;33m         \u001b[0mplt\u001b[0m\u001b[1;33m.\u001b[0m\u001b[0mplot\u001b[0m\u001b[1;33m(\u001b[0m\u001b[0mys\u001b[0m\u001b[1;33m,\u001b[0m \u001b[0mxs\u001b[0m\u001b[1;33m,\u001b[0m \u001b[1;33m**\u001b[0m\u001b[0margs\u001b[0m\u001b[1;33m)\u001b[0m\u001b[1;33m\u001b[0m\u001b[0m\n\u001b[0m\u001b[0;32m      8\u001b[0m \u001b[1;33m\u001b[0m\u001b[0m\n\u001b[0;32m      9\u001b[0m \u001b[1;32mdef\u001b[0m \u001b[0mplt_scatter\u001b[0m\u001b[1;33m(\u001b[0m\u001b[0mxs\u001b[0m\u001b[1;33m,\u001b[0m \u001b[0mys\u001b[0m\u001b[1;33m,\u001b[0m \u001b[1;33m**\u001b[0m\u001b[0margs\u001b[0m\u001b[1;33m)\u001b[0m\u001b[1;33m:\u001b[0m\u001b[1;33m\u001b[0m\u001b[0m\n",
      "\u001b[1;32md:\\winpython-64bit-3.6.6.1\\python-3.6.6.amd64\\lib\\site-packages\\matplotlib\\pyplot.py\u001b[0m in \u001b[0;36mplot\u001b[1;34m(scalex, scaley, data, *args, **kwargs)\u001b[0m\n\u001b[0;32m   2793\u001b[0m     return gca().plot(\n\u001b[0;32m   2794\u001b[0m         *args, scalex=scalex, scaley=scaley, **({\"data\": data} if data\n\u001b[1;32m-> 2795\u001b[1;33m         is not None else {}), **kwargs)\n\u001b[0m\u001b[0;32m   2796\u001b[0m \u001b[1;33m\u001b[0m\u001b[0m\n\u001b[0;32m   2797\u001b[0m \u001b[1;33m\u001b[0m\u001b[0m\n",
      "\u001b[1;32md:\\winpython-64bit-3.6.6.1\\python-3.6.6.amd64\\lib\\site-packages\\matplotlib\\axes\\_axes.py\u001b[0m in \u001b[0;36mplot\u001b[1;34m(self, scalex, scaley, data, *args, **kwargs)\u001b[0m\n\u001b[0;32m   1666\u001b[0m         \u001b[0mlines\u001b[0m \u001b[1;33m=\u001b[0m \u001b[1;33m[\u001b[0m\u001b[1;33m*\u001b[0m\u001b[0mself\u001b[0m\u001b[1;33m.\u001b[0m\u001b[0m_get_lines\u001b[0m\u001b[1;33m(\u001b[0m\u001b[1;33m*\u001b[0m\u001b[0margs\u001b[0m\u001b[1;33m,\u001b[0m \u001b[0mdata\u001b[0m\u001b[1;33m=\u001b[0m\u001b[0mdata\u001b[0m\u001b[1;33m,\u001b[0m \u001b[1;33m**\u001b[0m\u001b[0mkwargs\u001b[0m\u001b[1;33m)\u001b[0m\u001b[1;33m]\u001b[0m\u001b[1;33m\u001b[0m\u001b[0m\n\u001b[0;32m   1667\u001b[0m         \u001b[1;32mfor\u001b[0m \u001b[0mline\u001b[0m \u001b[1;32min\u001b[0m \u001b[0mlines\u001b[0m\u001b[1;33m:\u001b[0m\u001b[1;33m\u001b[0m\u001b[0m\n\u001b[1;32m-> 1668\u001b[1;33m             \u001b[0mself\u001b[0m\u001b[1;33m.\u001b[0m\u001b[0madd_line\u001b[0m\u001b[1;33m(\u001b[0m\u001b[0mline\u001b[0m\u001b[1;33m)\u001b[0m\u001b[1;33m\u001b[0m\u001b[0m\n\u001b[0m\u001b[0;32m   1669\u001b[0m         \u001b[0mself\u001b[0m\u001b[1;33m.\u001b[0m\u001b[0mautoscale_view\u001b[0m\u001b[1;33m(\u001b[0m\u001b[0mscalex\u001b[0m\u001b[1;33m=\u001b[0m\u001b[0mscalex\u001b[0m\u001b[1;33m,\u001b[0m \u001b[0mscaley\u001b[0m\u001b[1;33m=\u001b[0m\u001b[0mscaley\u001b[0m\u001b[1;33m)\u001b[0m\u001b[1;33m\u001b[0m\u001b[0m\n\u001b[0;32m   1670\u001b[0m         \u001b[1;32mreturn\u001b[0m \u001b[0mlines\u001b[0m\u001b[1;33m\u001b[0m\u001b[0m\n",
      "\u001b[1;32md:\\winpython-64bit-3.6.6.1\\python-3.6.6.amd64\\lib\\site-packages\\matplotlib\\axes\\_base.py\u001b[0m in \u001b[0;36madd_line\u001b[1;34m(self, line)\u001b[0m\n\u001b[0;32m   1898\u001b[0m         \u001b[0mself\u001b[0m\u001b[1;33m.\u001b[0m\u001b[0m_set_artist_props\u001b[0m\u001b[1;33m(\u001b[0m\u001b[0mline\u001b[0m\u001b[1;33m)\u001b[0m\u001b[1;33m\u001b[0m\u001b[0m\n\u001b[0;32m   1899\u001b[0m         \u001b[1;32mif\u001b[0m \u001b[0mline\u001b[0m\u001b[1;33m.\u001b[0m\u001b[0mget_clip_path\u001b[0m\u001b[1;33m(\u001b[0m\u001b[1;33m)\u001b[0m \u001b[1;32mis\u001b[0m \u001b[1;32mNone\u001b[0m\u001b[1;33m:\u001b[0m\u001b[1;33m\u001b[0m\u001b[0m\n\u001b[1;32m-> 1900\u001b[1;33m             \u001b[0mline\u001b[0m\u001b[1;33m.\u001b[0m\u001b[0mset_clip_path\u001b[0m\u001b[1;33m(\u001b[0m\u001b[0mself\u001b[0m\u001b[1;33m.\u001b[0m\u001b[0mpatch\u001b[0m\u001b[1;33m)\u001b[0m\u001b[1;33m\u001b[0m\u001b[0m\n\u001b[0m\u001b[0;32m   1901\u001b[0m \u001b[1;33m\u001b[0m\u001b[0m\n\u001b[0;32m   1902\u001b[0m         \u001b[0mself\u001b[0m\u001b[1;33m.\u001b[0m\u001b[0m_update_line_limits\u001b[0m\u001b[1;33m(\u001b[0m\u001b[0mline\u001b[0m\u001b[1;33m)\u001b[0m\u001b[1;33m\u001b[0m\u001b[0m\n",
      "\u001b[1;32md:\\winpython-64bit-3.6.6.1\\python-3.6.6.amd64\\lib\\site-packages\\matplotlib\\artist.py\u001b[0m in \u001b[0;36mset_clip_path\u001b[1;34m(self, path, transform)\u001b[0m\n\u001b[0;32m    730\u001b[0m             \u001b[1;32mif\u001b[0m \u001b[0misinstance\u001b[0m\u001b[1;33m(\u001b[0m\u001b[0mpath\u001b[0m\u001b[1;33m,\u001b[0m \u001b[0mRectangle\u001b[0m\u001b[1;33m)\u001b[0m\u001b[1;33m:\u001b[0m\u001b[1;33m\u001b[0m\u001b[0m\n\u001b[0;32m    731\u001b[0m                 self.clipbox = TransformedBbox(Bbox.unit(),\n\u001b[1;32m--> 732\u001b[1;33m                                                path.get_transform())\n\u001b[0m\u001b[0;32m    733\u001b[0m                 \u001b[0mself\u001b[0m\u001b[1;33m.\u001b[0m\u001b[0m_clippath\u001b[0m \u001b[1;33m=\u001b[0m \u001b[1;32mNone\u001b[0m\u001b[1;33m\u001b[0m\u001b[0m\n\u001b[0;32m    734\u001b[0m                 \u001b[0msuccess\u001b[0m \u001b[1;33m=\u001b[0m \u001b[1;32mTrue\u001b[0m\u001b[1;33m\u001b[0m\u001b[0m\n",
      "\u001b[1;32md:\\winpython-64bit-3.6.6.1\\python-3.6.6.amd64\\lib\\site-packages\\matplotlib\\patches.py\u001b[0m in \u001b[0;36mget_transform\u001b[1;34m(self)\u001b[0m\n\u001b[0;32m    212\u001b[0m         \u001b[0mto\u001b[0m \u001b[0mthe\u001b[0m \u001b[1;33m:\u001b[0m\u001b[1;32mclass\u001b[0m\u001b[1;33m:\u001b[0m\u001b[0;31m`\u001b[0m\u001b[0mPatch\u001b[0m\u001b[0;31m`\u001b[0m\u001b[1;33m.\u001b[0m\u001b[1;33m\u001b[0m\u001b[0m\n\u001b[0;32m    213\u001b[0m         \"\"\"\n\u001b[1;32m--> 214\u001b[1;33m         \u001b[1;32mreturn\u001b[0m \u001b[0mself\u001b[0m\u001b[1;33m.\u001b[0m\u001b[0mget_patch_transform\u001b[0m\u001b[1;33m(\u001b[0m\u001b[1;33m)\u001b[0m \u001b[1;33m+\u001b[0m \u001b[0martist\u001b[0m\u001b[1;33m.\u001b[0m\u001b[0mArtist\u001b[0m\u001b[1;33m.\u001b[0m\u001b[0mget_transform\u001b[0m\u001b[1;33m(\u001b[0m\u001b[0mself\u001b[0m\u001b[1;33m)\u001b[0m\u001b[1;33m\u001b[0m\u001b[0m\n\u001b[0m\u001b[0;32m    215\u001b[0m \u001b[1;33m\u001b[0m\u001b[0m\n\u001b[0;32m    216\u001b[0m     \u001b[1;32mdef\u001b[0m \u001b[0mget_data_transform\u001b[0m\u001b[1;33m(\u001b[0m\u001b[0mself\u001b[0m\u001b[1;33m)\u001b[0m\u001b[1;33m:\u001b[0m\u001b[1;33m\u001b[0m\u001b[0m\n",
      "\u001b[1;32md:\\winpython-64bit-3.6.6.1\\python-3.6.6.amd64\\lib\\site-packages\\matplotlib\\patches.py\u001b[0m in \u001b[0;36mget_patch_transform\u001b[1;34m(self)\u001b[0m\n\u001b[0;32m    756\u001b[0m \u001b[1;33m\u001b[0m\u001b[0m\n\u001b[0;32m    757\u001b[0m     \u001b[1;32mdef\u001b[0m \u001b[0mget_patch_transform\u001b[0m\u001b[1;33m(\u001b[0m\u001b[0mself\u001b[0m\u001b[1;33m)\u001b[0m\u001b[1;33m:\u001b[0m\u001b[1;33m\u001b[0m\u001b[0m\n\u001b[1;32m--> 758\u001b[1;33m         \u001b[0mself\u001b[0m\u001b[1;33m.\u001b[0m\u001b[0m_update_patch_transform\u001b[0m\u001b[1;33m(\u001b[0m\u001b[1;33m)\u001b[0m\u001b[1;33m\u001b[0m\u001b[0m\n\u001b[0m\u001b[0;32m    759\u001b[0m         \u001b[1;32mreturn\u001b[0m \u001b[0mself\u001b[0m\u001b[1;33m.\u001b[0m\u001b[0m_rect_transform\u001b[0m\u001b[1;33m\u001b[0m\u001b[0m\n\u001b[0;32m    760\u001b[0m \u001b[1;33m\u001b[0m\u001b[0m\n",
      "\u001b[1;32md:\\winpython-64bit-3.6.6.1\\python-3.6.6.amd64\\lib\\site-packages\\matplotlib\\patches.py\u001b[0m in \u001b[0;36m_update_patch_transform\u001b[1;34m(self)\u001b[0m\n\u001b[0;32m    735\u001b[0m         \u001b[0mbbox\u001b[0m \u001b[1;33m=\u001b[0m \u001b[0mtransforms\u001b[0m\u001b[1;33m.\u001b[0m\u001b[0mBbox\u001b[0m\u001b[1;33m.\u001b[0m\u001b[0mfrom_extents\u001b[0m\u001b[1;33m(\u001b[0m\u001b[0mx0\u001b[0m\u001b[1;33m,\u001b[0m \u001b[0my0\u001b[0m\u001b[1;33m,\u001b[0m \u001b[0mx1\u001b[0m\u001b[1;33m,\u001b[0m \u001b[0my1\u001b[0m\u001b[1;33m)\u001b[0m\u001b[1;33m\u001b[0m\u001b[0m\n\u001b[0;32m    736\u001b[0m         \u001b[0mrot_trans\u001b[0m \u001b[1;33m=\u001b[0m \u001b[0mtransforms\u001b[0m\u001b[1;33m.\u001b[0m\u001b[0mAffine2D\u001b[0m\u001b[1;33m(\u001b[0m\u001b[1;33m)\u001b[0m\u001b[1;33m\u001b[0m\u001b[0m\n\u001b[1;32m--> 737\u001b[1;33m         \u001b[0mrot_trans\u001b[0m\u001b[1;33m.\u001b[0m\u001b[0mrotate_deg_around\u001b[0m\u001b[1;33m(\u001b[0m\u001b[0mx0\u001b[0m\u001b[1;33m,\u001b[0m \u001b[0my0\u001b[0m\u001b[1;33m,\u001b[0m \u001b[0mself\u001b[0m\u001b[1;33m.\u001b[0m\u001b[0mangle\u001b[0m\u001b[1;33m)\u001b[0m\u001b[1;33m\u001b[0m\u001b[0m\n\u001b[0m\u001b[0;32m    738\u001b[0m         \u001b[0mself\u001b[0m\u001b[1;33m.\u001b[0m\u001b[0m_rect_transform\u001b[0m \u001b[1;33m=\u001b[0m \u001b[0mtransforms\u001b[0m\u001b[1;33m.\u001b[0m\u001b[0mBboxTransformTo\u001b[0m\u001b[1;33m(\u001b[0m\u001b[0mbbox\u001b[0m\u001b[1;33m)\u001b[0m\u001b[1;33m\u001b[0m\u001b[0m\n\u001b[0;32m    739\u001b[0m         \u001b[0mself\u001b[0m\u001b[1;33m.\u001b[0m\u001b[0m_rect_transform\u001b[0m \u001b[1;33m+=\u001b[0m \u001b[0mrot_trans\u001b[0m\u001b[1;33m\u001b[0m\u001b[0m\n",
      "\u001b[1;32md:\\winpython-64bit-3.6.6.1\\python-3.6.6.amd64\\lib\\site-packages\\matplotlib\\transforms.py\u001b[0m in \u001b[0;36mrotate_deg_around\u001b[1;34m(self, x, y, degrees)\u001b[0m\n\u001b[0;32m   1958\u001b[0m         \u001b[1;31m# Cast to float to avoid wraparound issues with uint8's\u001b[0m\u001b[1;33m\u001b[0m\u001b[1;33m\u001b[0m\u001b[0m\n\u001b[0;32m   1959\u001b[0m         \u001b[0mx\u001b[0m\u001b[1;33m,\u001b[0m \u001b[0my\u001b[0m \u001b[1;33m=\u001b[0m \u001b[0mfloat\u001b[0m\u001b[1;33m(\u001b[0m\u001b[0mx\u001b[0m\u001b[1;33m)\u001b[0m\u001b[1;33m,\u001b[0m \u001b[0mfloat\u001b[0m\u001b[1;33m(\u001b[0m\u001b[0my\u001b[0m\u001b[1;33m)\u001b[0m\u001b[1;33m\u001b[0m\u001b[0m\n\u001b[1;32m-> 1960\u001b[1;33m         \u001b[1;32mreturn\u001b[0m \u001b[0mself\u001b[0m\u001b[1;33m.\u001b[0m\u001b[0mtranslate\u001b[0m\u001b[1;33m(\u001b[0m\u001b[1;33m-\u001b[0m\u001b[0mx\u001b[0m\u001b[1;33m,\u001b[0m \u001b[1;33m-\u001b[0m\u001b[0my\u001b[0m\u001b[1;33m)\u001b[0m\u001b[1;33m.\u001b[0m\u001b[0mrotate_deg\u001b[0m\u001b[1;33m(\u001b[0m\u001b[0mdegrees\u001b[0m\u001b[1;33m)\u001b[0m\u001b[1;33m.\u001b[0m\u001b[0mtranslate\u001b[0m\u001b[1;33m(\u001b[0m\u001b[0mx\u001b[0m\u001b[1;33m,\u001b[0m \u001b[0my\u001b[0m\u001b[1;33m)\u001b[0m\u001b[1;33m\u001b[0m\u001b[0m\n\u001b[0m\u001b[0;32m   1961\u001b[0m \u001b[1;33m\u001b[0m\u001b[0m\n\u001b[0;32m   1962\u001b[0m     \u001b[1;32mdef\u001b[0m \u001b[0mtranslate\u001b[0m\u001b[1;33m(\u001b[0m\u001b[0mself\u001b[0m\u001b[1;33m,\u001b[0m \u001b[0mtx\u001b[0m\u001b[1;33m,\u001b[0m \u001b[0mty\u001b[0m\u001b[1;33m)\u001b[0m\u001b[1;33m:\u001b[0m\u001b[1;33m\u001b[0m\u001b[0m\n",
      "\u001b[1;32md:\\winpython-64bit-3.6.6.1\\python-3.6.6.amd64\\lib\\site-packages\\matplotlib\\transforms.py\u001b[0m in \u001b[0;36mtranslate\u001b[1;34m(self, tx, ty)\u001b[0m\n\u001b[0;32m   1970\u001b[0m         translate_mtx = np.array(\n\u001b[0;32m   1971\u001b[0m             [[1.0, 0.0, tx], [0.0, 1.0, ty], [0.0, 0.0, 1.0]], float)\n\u001b[1;32m-> 1972\u001b[1;33m         \u001b[0mself\u001b[0m\u001b[1;33m.\u001b[0m\u001b[0m_mtx\u001b[0m \u001b[1;33m=\u001b[0m \u001b[0mnp\u001b[0m\u001b[1;33m.\u001b[0m\u001b[0mdot\u001b[0m\u001b[1;33m(\u001b[0m\u001b[0mtranslate_mtx\u001b[0m\u001b[1;33m,\u001b[0m \u001b[0mself\u001b[0m\u001b[1;33m.\u001b[0m\u001b[0m_mtx\u001b[0m\u001b[1;33m)\u001b[0m\u001b[1;33m\u001b[0m\u001b[0m\n\u001b[0m\u001b[0;32m   1973\u001b[0m         \u001b[0mself\u001b[0m\u001b[1;33m.\u001b[0m\u001b[0minvalidate\u001b[0m\u001b[1;33m(\u001b[0m\u001b[1;33m)\u001b[0m\u001b[1;33m\u001b[0m\u001b[0m\n\u001b[0;32m   1974\u001b[0m         \u001b[1;32mreturn\u001b[0m \u001b[0mself\u001b[0m\u001b[1;33m\u001b[0m\u001b[0m\n",
      "\u001b[1;32m<__array_function__ internals>\u001b[0m in \u001b[0;36mdot\u001b[1;34m(*args, **kwargs)\u001b[0m\n",
      "\u001b[1;31mKeyboardInterrupt\u001b[0m: "
     ]
    },
    {
     "data": {
      "image/png": "[encoded data removed]",
      "text/plain": [
       "<Figure size 864x576 with 2 Axes>"
      ]
     },
     "metadata": {},
     "output_type": "display_data"
    }
   ],
   "source": [
    "render_population(records['car'], centered_on=None, records['obs'], records['raymarkers'],\n",
    "                  records['progress'], records['chromosomes'], 5)"
   ]
  },
  {
   "cell_type": "code",
   "execution_count": 10,
   "metadata": {
    "ExecuteTime": {
     "end_time": "2020-08-15T10:22:51.845230Z",
     "start_time": "2020-08-15T10:22:47.492889Z"
    }
   },
   "outputs": [],
   "source": [
    "import pickle\n",
    "\n",
    "seed_records, fitness = pickle.load(open('records/seed002.pkl', 'rb'))\n",
    "\n",
    "# seed_records hat das Format:\n",
    "# seed_records[generation]['car'/'obs'/'raymarkers'/'progress'][number_of_ind] = car/obs/raymarkers/progress"
   ]
  },
  {
   "cell_type": "code",
   "execution_count": null,
   "metadata": {
    "ExecuteTime": {
     "start_time": "2020-08-15T10:35:47.223Z"
    }
   },
   "outputs": [],
   "source": [
    "igen = 4\n",
    "\n",
    "records = seed_records[igen]"
   ]
  },
  {
   "cell_type": "code",
   "execution_count": null,
   "metadata": {},
   "outputs": [],
   "source": [
    "render_population(records['car'], centered_on=None, records['obs'], records['raymarkers'],\n",
    "                  records['progress'], records['chromosomes'], 5)"
   ]
  }
 ],
 "metadata": {
  "kernelspec": {
   "display_name": "Python 3",
   "language": "python",
   "name": "python3"
  },
  "language_info": {
   "codemirror_mode": {
    "name": "ipython",
    "version": 3
   },
   "file_extension": ".py",
   "mimetype": "text/x-python",
   "name": "python",
   "nbconvert_exporter": "python",
   "pygments_lexer": "ipython3",
   "version": "3.6.6"
  },
  "varInspector": {
   "cols": {
    "lenName": 16,
    "lenType": 16,
    "lenVar": 40
   },
   "kernels_config": {
    "python": {
     "delete_cmd_postfix": "",
     "delete_cmd_prefix": "del ",
     "library": "var_list.py",
     "varRefreshCmd": "print(var_dic_list())"
    },
    "r": {
     "delete_cmd_postfix": ") ",
     "delete_cmd_prefix": "rm(",
     "library": "var_list.r",
     "varRefreshCmd": "cat(var_dic_list()) "
    }
   },
   "types_to_exclude": [
    "module",
    "function",
    "builtin_function_or_method",
    "instance",
    "_Feature"
   ],
   "window_display": false
  }
 },
 "nbformat": 4,
 "nbformat_minor": 2
}
